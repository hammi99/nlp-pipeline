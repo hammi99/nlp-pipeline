{
 "cells": [
  {
   "cell_type": "code",
   "execution_count": null,
   "metadata": {},
   "outputs": [],
   "source": [
    "import config\n",
    "import sparknlp\n",
    "\n",
    "spark = sparknlp.start()"
   ]
  },
  {
   "cell_type": "code",
   "execution_count": null,
   "metadata": {},
   "outputs": [],
   "source": [
    "df = ( spark.read\n",
    "    .format('mongodb')\n",
    "    .option('database'      , config.MongoDb.database)\n",
    "    .option('collection'    , config.MongoDb.collection)\n",
    "    .option('connection.uri', f'mongodb://{config.MongoDb.user}:{config.MongoDb.password}@{config.MongoDb.host}:{config.MongoDb.port}')\n",
    "    .load()\n",
    ")\n",
    "df.show(10)"
   ]
  },
  {
   "cell_type": "code",
   "execution_count": null,
   "metadata": {},
   "outputs": [],
   "source": [
    "from sparknlp.pretrained import PretrainedPipeline \n",
    "pipeline = PretrainedPipeline.from_disk('./model')"
   ]
  },
  {
   "cell_type": "code",
   "execution_count": null,
   "metadata": {},
   "outputs": [],
   "source": [
    "# result.select(\n",
    "#     F.explode(\n",
    "#       F.arrays_zip(\n",
    "#         result.document.result, \n",
    "#         result.sentiment.result)).alias(\"cols\")\n",
    "# ).select(\n",
    "#     F.expr(\"cols['0']\").alias(\"document\"),\n",
    "#     F.expr(\"cols['1']\").alias(\"sentiment\")\n",
    "# ).show(truncate=False\n",
    "# )"
   ]
  },
  {
   "cell_type": "code",
   "execution_count": null,
   "metadata": {},
   "outputs": [],
   "source": [
    "transformed_df = pipeline.transform(df)\n",
    "transformed_df.show(10)"
   ]
  },
  {
   "cell_type": "code",
   "execution_count": null,
   "metadata": {},
   "outputs": [],
   "source": [
    "( transformed_df.write\n",
    "    .format('mongodb')\n",
    "    .option('database'      , f'{config.MongoDb.database}')\n",
    "    .option('collection'    , f'Sentiment')\n",
    "    .option('connection.uri', f'mongodb://{config.MongoDb.user}:{config.MongoDb.password}@{config.MongoDb.host}:{config.MongoDb.port}')\n",
    "    .mode('overwrite')\n",
    "\t.save()\n",
    ")"
   ]
  }
 ],
 "metadata": {
  "language_info": {
   "name": "python"
  }
 },
 "nbformat": 4,
 "nbformat_minor": 2
}
