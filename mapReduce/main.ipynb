{
 "cells": [
  {
   "cell_type": "code",
   "execution_count": null,
   "metadata": {},
   "outputs": [],
   "source": [
    "import pyspark\n",
    "import config\n",
    "from pyspark.sql import SparkSession\n",
    "import pyspark.sql.functions as F"
   ]
  },
  {
   "cell_type": "code",
   "execution_count": null,
   "metadata": {},
   "outputs": [],
   "source": [
    "spark = ( SparkSession.builder\n",
    "    .appName('database-read-write')\n",
    "    .getOrCreate()\n",
    ")"
   ]
  },
  {
   "cell_type": "code",
   "execution_count": null,
   "metadata": {},
   "outputs": [],
   "source": [
    "df = spark.read.jdbc(\n",
    "    url        = f'jdbc:mysql://source-db:{config.MySQL.port}/{config.MySQL.database}',\n",
    "    table      = config.MySQL.table,\n",
    "    properties = {\n",
    "        'user'    : config.MySQL.user,\n",
    "        'password': config.MySQL.password,\n",
    "        # 'driver'  : 'com.mysql.jdbc.Driver',\n",
    "        'driver'  : 'com.mysql.cj.jdbc.Driver'\n",
    "    }\n",
    ")"
   ]
  },
  {
   "cell_type": "code",
   "execution_count": null,
   "metadata": {},
   "outputs": [],
   "source": [
    "# df.printSchema()"
   ]
  },
  {
   "cell_type": "code",
   "execution_count": null,
   "metadata": {},
   "outputs": [],
   "source": [
    "df = df.limit(10)\n",
    "\n",
    "( df.write\n",
    "    .format('com.mongodb.spark.sql.DefaultSource')\n",
    "    .option('uri', 'mongodb://sink-db:27017/default.Tweet')\n",
    "    .mode('append')\n",
    "    .save()\n",
    ")"
   ]
  },
  {
   "cell_type": "code",
   "execution_count": null,
   "metadata": {},
   "outputs": [],
   "source": []
  }
 ],
 "metadata": {
  "language_info": {
   "name": "python"
  }
 },
 "nbformat": 4,
 "nbformat_minor": 2
}
