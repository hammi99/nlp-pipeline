{
 "cells": [
  {
   "cell_type": "code",
   "execution_count": 12,
   "metadata": {},
   "outputs": [],
   "source": [
    "import config\n",
    "import pyspark\n",
    "import vaderSentiment.vaderSentiment"
   ]
  },
  {
   "cell_type": "markdown",
   "metadata": {},
   "source": [
    "# Creating Spark session"
   ]
  },
  {
   "cell_type": "code",
   "execution_count": 13,
   "metadata": {},
   "outputs": [],
   "source": [
    "spark = pyspark.sql.SparkSession.builder.getOrCreate()"
   ]
  },
  {
   "cell_type": "markdown",
   "metadata": {},
   "source": [
    "# Fetching Data"
   ]
  },
  {
   "cell_type": "code",
   "execution_count": 23,
   "metadata": {},
   "outputs": [
    {
     "name": "stdout",
     "output_type": "stream",
     "text": [
      "+------------------------+-------------------+--------------------------------------------------------------------------------+---------------+\n",
      "|                     _id|          createdAt|                                                                            text|       userName|\n",
      "+------------------------+-------------------+--------------------------------------------------------------------------------+---------------+\n",
      "|664a236ca9497c29d7109e92|2009-04-06 22:19:45|       user http - awww , 's bummer . you shoulda got david carr third day . ; d|_TheSpecialOne_|\n",
      "|664a236ca9497c29d7109e93|2009-04-06 22:19:49|upset ca n't updat facebook text ... might cri result school today also . blah !|  scotthamilton|\n",
      "|664a236ca9497c29d7109e94|2009-04-06 22:19:53|                  user i dive mani time ball . manag save 50 % the rest go bound|       mattycus|\n",
      "|664a236ca9497c29d7109e95|2009-04-06 22:19:57|                                                 whole bodi feel itchi like fire|        ElleCTF|\n",
      "|664a236ca9497c29d7109e96|2009-04-06 22:19:57|                                     user , 's behav . 'm mad . ? i ca n't see .|         Karoli|\n",
      "|664a236ca9497c29d7109e97|2009-04-06 22:20:00|                                                                 user whole crew|       joy_wolf|\n",
      "|664a236ca9497c29d7109e98|2009-04-06 22:20:03|                                                                        need hug|        mybirch|\n",
      "|664a236ca9497c29d7109e99|2009-04-06 22:20:03|      user hey long time see ! ye .. rain bit , bit lol , i 'm fine thank , 's ?|           coZZ|\n",
      "|664a236ca9497c29d7109e9a|2009-04-06 22:20:05|                                                                   user nope n't|2Hood4Hollywood|\n",
      "|664a236ca9497c29d7109e9b|2009-04-06 22:20:09|                                                                user que muera ?|        mimismo|\n",
      "+------------------------+-------------------+--------------------------------------------------------------------------------+---------------+\n",
      "only showing top 10 rows\n",
      "\n"
     ]
    }
   ],
   "source": [
    "df = ( spark.read\n",
    "    .format('mongodb')\n",
    "    .option('database'      , f'{config.MongoDb.database}')\n",
    "    .option('collection'    , f'{config.MongoDb.readCollection}')\n",
    "    .option('connection.uri', f'mongodb://{config.MongoDb.user}:{config.MongoDb.password}@{config.MongoDb.host}:{config.MongoDb.port}')\n",
    "\t.load()\n",
    ")\n",
    "df.show(10, truncate= 100)"
   ]
  },
  {
   "cell_type": "markdown",
   "metadata": {},
   "source": [
    "# Sentiment extraction"
   ]
  },
  {
   "cell_type": "markdown",
   "metadata": {},
   "source": [
    "## using pretrained VADER Sentiment model"
   ]
  },
  {
   "cell_type": "code",
   "execution_count": null,
   "metadata": {},
   "outputs": [],
   "source": [
    "sentimentIntensityAnalyzer = vaderSentiment.vaderSentiment.SentimentIntensityAnalyzer()"
   ]
  },
  {
   "cell_type": "markdown",
   "metadata": {},
   "source": [
    "## Defining pyspark function to perform sentiment extraction"
   ]
  },
  {
   "cell_type": "code",
   "execution_count": null,
   "metadata": {},
   "outputs": [],
   "source": [
    "@pyspark.sql.functions.udf(\n",
    "    returnType= pyspark.sql.types.MapType(\n",
    "        pyspark.sql.types.StringType(), \n",
    "        pyspark.sql.types.FloatType()\n",
    "))\n",
    "def sentiment(text2):\n",
    "    return sentimentIntensityAnalyzer.polarity_scores(text2)"
   ]
  },
  {
   "cell_type": "markdown",
   "metadata": {},
   "source": [
    "# Performing sentiment Extraction"
   ]
  },
  {
   "cell_type": "code",
   "execution_count": 25,
   "metadata": {},
   "outputs": [
    {
     "name": "stdout",
     "output_type": "stream",
     "text": [
      "+------------------------+-------------------+--------------------------------------------------------------------------------+---------------+-------------------------------------------------------------+\n",
      "|                     _id|          createdAt|                                                                            text|       userName|                                                    sentiment|\n",
      "+------------------------+-------------------+--------------------------------------------------------------------------------+---------------+-------------------------------------------------------------+\n",
      "|664a236ca9497c29d7109e92|2009-04-06 22:19:45|       user http - awww , 's bummer . you shoulda got david carr third day . ; d|_TheSpecialOne_|{neg -> 0.133, pos -> 0.0, compound -> -0.3818, neu -> 0.867}|\n",
      "|664a236ca9497c29d7109e93|2009-04-06 22:19:49|upset ca n't updat facebook text ... might cri result school today also . blah !|  scotthamilton|{neg -> 0.235, pos -> 0.0, compound -> -0.5093, neu -> 0.765}|\n",
      "|664a236ca9497c29d7109e94|2009-04-06 22:19:53|                  user i dive mani time ball . manag save 50 % the rest go bound|       mattycus| {neg -> 0.0, pos -> 0.186, compound -> 0.4939, neu -> 0.814}|\n",
      "|664a236ca9497c29d7109e95|2009-04-06 22:19:57|                                                 whole bodi feel itchi like fire|        ElleCTF|{neg -> 0.27, pos -> 0.281, compound -> 0.0258, neu -> 0.449}|\n",
      "|664a236ca9497c29d7109e96|2009-04-06 22:19:57|                                     user , 's behav . 'm mad . ? i ca n't see .|         Karoli|{neg -> 0.198, pos -> 0.0, compound -> -0.4939, neu -> 0.802}|\n",
      "|664a236ca9497c29d7109e97|2009-04-06 22:20:00|                                                                 user whole crew|       joy_wolf|        {neg -> 0.0, pos -> 0.0, compound -> 0.0, neu -> 1.0}|\n",
      "|664a236ca9497c29d7109e98|2009-04-06 22:20:03|                                                                        need hug|        mybirch| {neg -> 0.0, pos -> 0.756, compound -> 0.4767, neu -> 0.244}|\n",
      "|664a236ca9497c29d7109e99|2009-04-06 22:20:03|      user hey long time see ! ye .. rain bit , bit lol , i 'm fine thank , 's ?|           coZZ|   {neg -> 0.0, pos -> 0.291, compound -> 0.75, neu -> 0.709}|\n",
      "|664a236ca9497c29d7109e9a|2009-04-06 22:20:05|                                                                   user nope n't|2Hood4Hollywood|        {neg -> 0.0, pos -> 0.0, compound -> 0.0, neu -> 1.0}|\n",
      "|664a236ca9497c29d7109e9b|2009-04-06 22:20:09|                                                                user que muera ?|        mimismo|        {neg -> 0.0, pos -> 0.0, compound -> 0.0, neu -> 1.0}|\n",
      "+------------------------+-------------------+--------------------------------------------------------------------------------+---------------+-------------------------------------------------------------+\n",
      "only showing top 10 rows\n",
      "\n"
     ]
    }
   ],
   "source": [
    "df = df.withColumn(\n",
    "    '*',\n",
    "    sentiment('text').alias('sentiment')\n",
    ")\n",
    "df.show(10, truncate= 100)"
   ]
  },
  {
   "cell_type": "markdown",
   "metadata": {},
   "source": [
    "# Analyzing resultant data Schema"
   ]
  },
  {
   "cell_type": "code",
   "execution_count": 26,
   "metadata": {},
   "outputs": [
    {
     "name": "stdout",
     "output_type": "stream",
     "text": [
      "root\n",
      " |-- _id: string (nullable = true)\n",
      " |-- createdAt: timestamp (nullable = true)\n",
      " |-- text: string (nullable = true)\n",
      " |-- userName: string (nullable = true)\n",
      " |-- sentiment: map (nullable = true)\n",
      " |    |-- key: string\n",
      " |    |-- value: float (valueContainsNull = true)\n",
      "\n"
     ]
    }
   ],
   "source": [
    "df.printSchema()"
   ]
  },
  {
   "cell_type": "markdown",
   "metadata": {},
   "source": [
    "# Transforming schema into a flattened form"
   ]
  },
  {
   "cell_type": "code",
   "execution_count": 27,
   "metadata": {},
   "outputs": [
    {
     "name": "stdout",
     "output_type": "stream",
     "text": [
      "+--------------------+-------------------+--------------------+---------------+--------------------+--------+-------+--------+--------+\n",
      "|                 _id|          createdAt|                text|       userName|           sentiment|negative|neutral|positive|compound|\n",
      "+--------------------+-------------------+--------------------+---------------+--------------------+--------+-------+--------+--------+\n",
      "|664a236ca9497c29d...|2009-04-06 22:19:45|user http - awww ...|_TheSpecialOne_|{neg -> 0.133, po...|   0.133|  0.867|     0.0| -0.3818|\n",
      "|664a236ca9497c29d...|2009-04-06 22:19:49|upset ca n't upda...|  scotthamilton|{neg -> 0.235, po...|   0.235|  0.765|     0.0| -0.5093|\n",
      "|664a236ca9497c29d...|2009-04-06 22:19:53|user i dive mani ...|       mattycus|{neg -> 0.0, pos ...|     0.0|  0.814|   0.186|  0.4939|\n",
      "|664a236ca9497c29d...|2009-04-06 22:19:57|whole bodi feel i...|        ElleCTF|{neg -> 0.27, pos...|    0.27|  0.449|   0.281|  0.0258|\n",
      "|664a236ca9497c29d...|2009-04-06 22:19:57|user , 's behav ....|         Karoli|{neg -> 0.198, po...|   0.198|  0.802|     0.0| -0.4939|\n",
      "|664a236ca9497c29d...|2009-04-06 22:20:00|     user whole crew|       joy_wolf|{neg -> 0.0, pos ...|     0.0|    1.0|     0.0|     0.0|\n",
      "|664a236ca9497c29d...|2009-04-06 22:20:03|            need hug|        mybirch|{neg -> 0.0, pos ...|     0.0|  0.244|   0.756|  0.4767|\n",
      "|664a236ca9497c29d...|2009-04-06 22:20:03|user hey long tim...|           coZZ|{neg -> 0.0, pos ...|     0.0|  0.709|   0.291|    0.75|\n",
      "|664a236ca9497c29d...|2009-04-06 22:20:05|       user nope n't|2Hood4Hollywood|{neg -> 0.0, pos ...|     0.0|    1.0|     0.0|     0.0|\n",
      "|664a236ca9497c29d...|2009-04-06 22:20:09|    user que muera ?|        mimismo|{neg -> 0.0, pos ...|     0.0|    1.0|     0.0|     0.0|\n",
      "+--------------------+-------------------+--------------------+---------------+--------------------+--------+-------+--------+--------+\n",
      "only showing top 10 rows\n",
      "\n"
     ]
    }
   ],
   "source": [
    "df = df.select(\n",
    "    '*',\n",
    "    pyspark.sql.functions.col('sentiment').getItem('neg').alias('negative'),\n",
    "    pyspark.sql.functions.col('sentiment').getItem('neu').alias('neutral'),\n",
    "    pyspark.sql.functions.col('sentiment').getItem('pos').alias('positive'),\n",
    "    pyspark.sql.functions.col('sentiment').getItem('compound').alias('compound')\n",
    ")\n",
    "df.show(10)"
   ]
  },
  {
   "cell_type": "code",
   "execution_count": 28,
   "metadata": {},
   "outputs": [
    {
     "name": "stdout",
     "output_type": "stream",
     "text": [
      "root\n",
      " |-- _id: string (nullable = true)\n",
      " |-- createdAt: timestamp (nullable = true)\n",
      " |-- text: string (nullable = true)\n",
      " |-- userName: string (nullable = true)\n",
      " |-- sentiment: map (nullable = true)\n",
      " |    |-- key: string\n",
      " |    |-- value: float (valueContainsNull = true)\n",
      " |-- negative: float (nullable = true)\n",
      " |-- neutral: float (nullable = true)\n",
      " |-- positive: float (nullable = true)\n",
      " |-- compound: float (nullable = true)\n",
      "\n"
     ]
    }
   ],
   "source": [
    "df.printSchema()"
   ]
  },
  {
   "cell_type": "markdown",
   "metadata": {},
   "source": [
    "# Dropping irrelavant features"
   ]
  },
  {
   "cell_type": "code",
   "execution_count": 30,
   "metadata": {},
   "outputs": [
    {
     "name": "stdout",
     "output_type": "stream",
     "text": [
      "root\n",
      " |-- createdAt: timestamp (nullable = true)\n",
      " |-- userName: string (nullable = true)\n",
      " |-- negative: float (nullable = true)\n",
      " |-- neutral: float (nullable = true)\n",
      " |-- positive: float (nullable = true)\n",
      " |-- compound: float (nullable = true)\n",
      "\n"
     ]
    }
   ],
   "source": [
    "df = df.drop('_id', 'text', 'sentiment')\n",
    "df.printSchema()"
   ]
  },
  {
   "cell_type": "markdown",
   "metadata": {},
   "source": [
    "# Writing processed text to MongoDb"
   ]
  },
  {
   "cell_type": "code",
   "execution_count": 9,
   "metadata": {},
   "outputs": [
    {
     "name": "stderr",
     "output_type": "stream",
     "text": [
      "                                                                                \r"
     ]
    }
   ],
   "source": [
    "( df.write\n",
    "    .format('mongodb')\n",
    "    .option('database'      , f'{config.MongoDb.database}')\n",
    "    .option('collection'    , f'{config.MongoDb.writeCollection}')\n",
    "    .option('connection.uri', f'mongodb://{config.MongoDb.user}:{config.MongoDb.password}@{config.MongoDb.host}:{config.MongoDb.port}')\n",
    "    .mode('overwrite')\n",
    "\t.save()\n",
    ")"
   ]
  }
 ],
 "metadata": {
  "kernelspec": {
   "display_name": "Python 3 (ipykernel)",
   "language": "python",
   "name": "python3"
  },
  "language_info": {
   "codemirror_mode": {
    "name": "ipython",
    "version": 3
   },
   "file_extension": ".py",
   "mimetype": "text/x-python",
   "name": "python",
   "nbconvert_exporter": "python",
   "pygments_lexer": "ipython3",
   "version": "3.12.3"
  }
 },
 "nbformat": 4,
 "nbformat_minor": 4
}
