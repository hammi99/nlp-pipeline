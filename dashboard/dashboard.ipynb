{
 "cells": [
  {
   "cell_type": "code",
   "execution_count": 4,
   "metadata": {},
   "outputs": [],
   "source": [
    "import dash\n",
    "import pandas as pd\n",
    "import dash_bootstrap_components as dbc"
   ]
  },
  {
   "cell_type": "code",
   "execution_count": 5,
   "metadata": {},
   "outputs": [],
   "source": [
    "pd.options.plotting.backend = 'plotly'"
   ]
  },
  {
   "cell_type": "code",
   "execution_count": 6,
   "metadata": {},
   "outputs": [],
   "source": [
    "dfs = [\n",
    "\tpd.read_csv('./data/1-day-sentiment-prediction.csv', index_col= 'createdAt'),\n",
    "\tpd.read_csv('./data/3-day-sentiment-prediction.csv', index_col= 'createdAt'),\n",
    "\tpd.read_csv('./data/7-day-sentiment-prediction.csv', index_col= 'createdAt'),\n",
    "]"
   ]
  },
  {
   "cell_type": "code",
   "execution_count": 7,
   "metadata": {},
   "outputs": [],
   "source": [
    "app = dash.Dash(external_stylesheets= [dbc.themes.BOOTSTRAP])"
   ]
  },
  {
   "cell_type": "code",
   "execution_count": 8,
   "metadata": {},
   "outputs": [],
   "source": [
    "# App layout\n",
    "app.layout = [\n",
    "    dbc.Row([\n",
    "        dbc.Col(\n",
    "        \twidth   = 2,\n",
    "            style= {\n",
    "\t\t\t\t'position': 'fixed',\n",
    "\t\t\t\t'top': 0,\n",
    "\t\t\t\t'left': 0,\n",
    "\t\t\t\t'bottom': 0,\n",
    "\t\t\t\t'width': '16rem',\n",
    "\t\t\t\t'padding': '2rem 1rem',\n",
    "\t\t\t\t'background-color': '#f8f9fa',\n",
    "\t\t\t},\n",
    "            children= dash.dcc.Checklist(\n",
    "\t\t\t\tid      = 'checklist',\n",
    "\t\t\t\toptions = dfs[0].columns.values,\n",
    "\t\t\t\tvalue   = dfs[0].columns.values\n",
    "\t\t\t)\n",
    "        ),\n",
    "        dbc.Col(\n",
    "            width   = 10,\n",
    "            style   = {\n",
    "\t\t\t\t\"margin-left\": \"18rem\",\n",
    "\t\t\t\t\"margin-right\": \"2rem\",\n",
    "\t\t\t\t\"padding\": \"2rem 1rem\",\n",
    "\t\t\t},\n",
    "\t\t\tchildren= dash.html.Div(\n",
    "\t\t\t\tid\t    = 'graphs',\n",
    "\t\t\t\tchildren= [\n",
    "\t\t\t\t\tdash.dcc.Graph(id= 'graph1'),\n",
    "\t\t\t\t\tdash.dcc.Graph(id= 'graph2'),\n",
    "\t\t\t\t\tdash.dcc.Graph(id= 'graph3'),\n",
    "\t\t\t\t]\n",
    "\t\t\t)\n",
    "        )\n",
    "    ]),\n",
    "]"
   ]
  },
  {
   "cell_type": "code",
   "execution_count": 9,
   "metadata": {},
   "outputs": [],
   "source": [
    "@dash.callback(\n",
    "    [\n",
    "\t\tdash.Output(component_id= 'graph1', component_property= 'figure'),\n",
    "\t\tdash.Output(component_id= 'graph2', component_property= 'figure'),\n",
    "\t\tdash.Output(component_id= 'graph3', component_property= 'figure'),\n",
    "\t],\n",
    "    dash.Input (component_id= 'checklist', component_property= 'value')\n",
    ")\n",
    "def updateGraphs(cols):\n",
    "    return [\n",
    "        df[cols].plot() \n",
    "        for df in dfs\n",
    "\t]"
   ]
  },
  {
   "cell_type": "code",
   "execution_count": 10,
   "metadata": {},
   "outputs": [
    {
     "data": {
      "text/html": [
       "\n",
       "        <iframe\n",
       "            width=\"100%\"\n",
       "            height=\"650\"\n",
       "            src=\"http://127.0.0.1:8050/\"\n",
       "            frameborder=\"0\"\n",
       "            allowfullscreen\n",
       "            \n",
       "        ></iframe>\n",
       "        "
      ],
      "text/plain": [
       "<IPython.lib.display.IFrame at 0x269730247a0>"
      ]
     },
     "metadata": {},
     "output_type": "display_data"
    }
   ],
   "source": [
    "# Run the app\n",
    "if __name__ == '__main__':\n",
    "    app.run(debug=True)"
   ]
  }
 ],
 "metadata": {
  "kernelspec": {
   "display_name": "temp3",
   "language": "python",
   "name": "python3"
  },
  "language_info": {
   "codemirror_mode": {
    "name": "ipython",
    "version": 3
   },
   "file_extension": ".py",
   "mimetype": "text/x-python",
   "name": "python",
   "nbconvert_exporter": "python",
   "pygments_lexer": "ipython3",
   "version": "3.12.3"
  }
 },
 "nbformat": 4,
 "nbformat_minor": 2
}
